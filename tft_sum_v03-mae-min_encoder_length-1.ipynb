{
 "cells": [
  {
   "cell_type": "code",
   "execution_count": 32,
   "id": "60c8f473",
   "metadata": {},
   "outputs": [],
   "source": [
    "import datetime\n",
    "import matplotlib.pyplot as plt\n",
    "import numpy as np\n",
    "import os\n",
    "import pandas as pd\n",
    "import pathlib\n",
    "import pytorch_lightning as pl\n",
    "import torch\n",
    "from datetime import timedelta\n",
    "from pytorch_forecasting import Baseline, GroupNormalizer, MultiNormalizer, TemporalFusionTransformer, TimeSeriesDataSet\n",
    "from pytorch_forecasting.data.encoders import NaNLabelEncoder, TorchNormalizer\n",
    "from pytorch_forecasting.metrics import QuantileLoss, SMAPE, MAPE, MAE\n",
    "from pytorch_forecasting.models.temporal_fusion_transformer.tuning import optimize_hyperparameters\n",
    "from pytorch_lightning.callbacks import EarlyStopping, LearningRateMonitor\n",
    "from pytorch_lightning.loggers import TensorBoardLogger\n",
    "from sklearn.metrics import mean_absolute_error, mean_absolute_percentage_error\n",
    "from tqdm import tqdm\n",
    "\n",
    "%matplotlib inline"
   ]
  },
  {
   "cell_type": "markdown",
   "id": "f8ffbdc9",
   "metadata": {},
   "source": [
    "# Preprocessing"
   ]
  },
  {
   "cell_type": "code",
   "execution_count": 2,
   "id": "4f9e24d1",
   "metadata": {},
   "outputs": [
    {
     "name": "stdout",
     "output_type": "stream",
     "text": [
      "CPU times: user 17 ms, sys: 12.2 ms, total: 29.2 ms\n",
      "Wall time: 27.9 ms\n"
     ]
    },
    {
     "data": {
      "text/html": [
       "<div>\n",
       "<style scoped>\n",
       "    .dataframe tbody tr th:only-of-type {\n",
       "        vertical-align: middle;\n",
       "    }\n",
       "\n",
       "    .dataframe tbody tr th {\n",
       "        vertical-align: top;\n",
       "    }\n",
       "\n",
       "    .dataframe thead th {\n",
       "        text-align: right;\n",
       "    }\n",
       "</style>\n",
       "<table border=\"1\" class=\"dataframe\">\n",
       "  <thead>\n",
       "    <tr style=\"text-align: right;\">\n",
       "      <th></th>\n",
       "      <th>Регион</th>\n",
       "      <th>Имя теста</th>\n",
       "      <th>date_day</th>\n",
       "      <th>sum</th>\n",
       "      <th>count</th>\n",
       "    </tr>\n",
       "  </thead>\n",
       "  <tbody>\n",
       "    <tr>\n",
       "      <th>0</th>\n",
       "      <td>Адыгея Респ</td>\n",
       "      <td>Borrelia burgdorferi s.l (кач) ДНК</td>\n",
       "      <td>2019-07-30</td>\n",
       "      <td>0</td>\n",
       "      <td>1</td>\n",
       "    </tr>\n",
       "    <tr>\n",
       "      <th>1</th>\n",
       "      <td>Адыгея Респ</td>\n",
       "      <td>Borrelia burgdorferi s.l (кач) ДНК</td>\n",
       "      <td>2020-04-25</td>\n",
       "      <td>0</td>\n",
       "      <td>1</td>\n",
       "    </tr>\n",
       "    <tr>\n",
       "      <th>2</th>\n",
       "      <td>Адыгея Респ</td>\n",
       "      <td>Borrelia burgdorferi s.l (кач) ДНК</td>\n",
       "      <td>2020-05-19</td>\n",
       "      <td>0</td>\n",
       "      <td>2</td>\n",
       "    </tr>\n",
       "    <tr>\n",
       "      <th>3</th>\n",
       "      <td>Адыгея Респ</td>\n",
       "      <td>Borrelia burgdorferi s.l (кач) ДНК</td>\n",
       "      <td>2020-08-01</td>\n",
       "      <td>0</td>\n",
       "      <td>1</td>\n",
       "    </tr>\n",
       "    <tr>\n",
       "      <th>4</th>\n",
       "      <td>Адыгея Респ</td>\n",
       "      <td>Borrelia burgdorferi s.l (кач) ДНК</td>\n",
       "      <td>2021-05-11</td>\n",
       "      <td>0</td>\n",
       "      <td>1</td>\n",
       "    </tr>\n",
       "  </tbody>\n",
       "</table>\n",
       "</div>"
      ],
      "text/plain": [
       "        Регион                           Имя теста    date_day  sum  count\n",
       "0  Адыгея Респ  Borrelia burgdorferi s.l (кач) ДНК  2019-07-30    0      1\n",
       "1  Адыгея Респ  Borrelia burgdorferi s.l (кач) ДНК  2020-04-25    0      1\n",
       "2  Адыгея Респ  Borrelia burgdorferi s.l (кач) ДНК  2020-05-19    0      2\n",
       "3  Адыгея Респ  Borrelia burgdorferi s.l (кач) ДНК  2020-08-01    0      1\n",
       "4  Адыгея Респ  Borrelia burgdorferi s.l (кач) ДНК  2021-05-11    0      1"
      ]
     },
     "execution_count": 2,
     "metadata": {},
     "output_type": "execute_result"
    }
   ],
   "source": [
    "%%time\n",
    "\n",
    "df = pd.read_csv(\"data/data_preprocessed.csv\")\n",
    "df.head()"
   ]
  },
  {
   "cell_type": "code",
   "execution_count": 3,
   "id": "afa26333",
   "metadata": {},
   "outputs": [
    {
     "data": {
      "text/plain": [
       "(Timestamp('2019-02-13 00:00:00'), Timestamp('2021-06-09 00:00:00'))"
      ]
     },
     "execution_count": 3,
     "metadata": {},
     "output_type": "execute_result"
    }
   ],
   "source": [
    "df[\"date_day\"] = pd.to_datetime(df[\"date_day\"])\n",
    "df[\"date_day\"].min(), df[\"date_day\"].max()"
   ]
  },
  {
   "cell_type": "code",
   "execution_count": 4,
   "id": "1ccd0643",
   "metadata": {},
   "outputs": [
    {
     "data": {
      "text/plain": [
       "Регион       0\n",
       "Имя теста    0\n",
       "date_day     0\n",
       "sum          0\n",
       "count        0\n",
       "dtype: int64"
      ]
     },
     "execution_count": 4,
     "metadata": {},
     "output_type": "execute_result"
    }
   ],
   "source": [
    "df.isnull().sum()"
   ]
  },
  {
   "cell_type": "code",
   "execution_count": 5,
   "id": "c31d6ebc",
   "metadata": {},
   "outputs": [
    {
     "data": {
      "text/html": [
       "<div>\n",
       "<style scoped>\n",
       "    .dataframe tbody tr th:only-of-type {\n",
       "        vertical-align: middle;\n",
       "    }\n",
       "\n",
       "    .dataframe tbody tr th {\n",
       "        vertical-align: top;\n",
       "    }\n",
       "\n",
       "    .dataframe thead th {\n",
       "        text-align: right;\n",
       "    }\n",
       "</style>\n",
       "<table border=\"1\" class=\"dataframe\">\n",
       "  <thead>\n",
       "    <tr style=\"text-align: right;\">\n",
       "      <th></th>\n",
       "      <th>Регион</th>\n",
       "      <th>Имя теста</th>\n",
       "      <th>date_day</th>\n",
       "      <th>sum</th>\n",
       "      <th>count</th>\n",
       "      <th>time_idx</th>\n",
       "      <th>Номер месяца</th>\n",
       "      <th>День недели</th>\n",
       "    </tr>\n",
       "  </thead>\n",
       "  <tbody>\n",
       "    <tr>\n",
       "      <th>0</th>\n",
       "      <td>Адыгея Респ</td>\n",
       "      <td>Borrelia burgdorferi s.l (кач) ДНК</td>\n",
       "      <td>2019-07-30</td>\n",
       "      <td>0.0</td>\n",
       "      <td>1.0</td>\n",
       "      <td>167</td>\n",
       "      <td>7</td>\n",
       "      <td>1</td>\n",
       "    </tr>\n",
       "    <tr>\n",
       "      <th>1</th>\n",
       "      <td>Адыгея Респ</td>\n",
       "      <td>Borrelia burgdorferi s.l (кач) ДНК</td>\n",
       "      <td>2020-04-25</td>\n",
       "      <td>0.0</td>\n",
       "      <td>1.0</td>\n",
       "      <td>437</td>\n",
       "      <td>4</td>\n",
       "      <td>5</td>\n",
       "    </tr>\n",
       "    <tr>\n",
       "      <th>2</th>\n",
       "      <td>Адыгея Респ</td>\n",
       "      <td>Borrelia burgdorferi s.l (кач) ДНК</td>\n",
       "      <td>2020-05-19</td>\n",
       "      <td>0.0</td>\n",
       "      <td>2.0</td>\n",
       "      <td>461</td>\n",
       "      <td>5</td>\n",
       "      <td>1</td>\n",
       "    </tr>\n",
       "    <tr>\n",
       "      <th>3</th>\n",
       "      <td>Адыгея Респ</td>\n",
       "      <td>Borrelia burgdorferi s.l (кач) ДНК</td>\n",
       "      <td>2020-08-01</td>\n",
       "      <td>0.0</td>\n",
       "      <td>1.0</td>\n",
       "      <td>535</td>\n",
       "      <td>8</td>\n",
       "      <td>5</td>\n",
       "    </tr>\n",
       "    <tr>\n",
       "      <th>4</th>\n",
       "      <td>Адыгея Респ</td>\n",
       "      <td>Borrelia burgdorferi s.l (кач) ДНК</td>\n",
       "      <td>2021-05-11</td>\n",
       "      <td>0.0</td>\n",
       "      <td>1.0</td>\n",
       "      <td>818</td>\n",
       "      <td>5</td>\n",
       "      <td>1</td>\n",
       "    </tr>\n",
       "    <tr>\n",
       "      <th>...</th>\n",
       "      <td>...</td>\n",
       "      <td>...</td>\n",
       "      <td>...</td>\n",
       "      <td>...</td>\n",
       "      <td>...</td>\n",
       "      <td>...</td>\n",
       "      <td>...</td>\n",
       "      <td>...</td>\n",
       "    </tr>\n",
       "    <tr>\n",
       "      <th>23464</th>\n",
       "      <td>Ярославская обл</td>\n",
       "      <td>Вирус клещевого энцефалита(кач) РНК</td>\n",
       "      <td>2021-05-29</td>\n",
       "      <td>0.0</td>\n",
       "      <td>2.0</td>\n",
       "      <td>836</td>\n",
       "      <td>5</td>\n",
       "      <td>5</td>\n",
       "    </tr>\n",
       "    <tr>\n",
       "      <th>23465</th>\n",
       "      <td>Ярославская обл</td>\n",
       "      <td>Вирус клещевого энцефалита(кач) РНК</td>\n",
       "      <td>2021-05-31</td>\n",
       "      <td>0.0</td>\n",
       "      <td>3.0</td>\n",
       "      <td>838</td>\n",
       "      <td>5</td>\n",
       "      <td>0</td>\n",
       "    </tr>\n",
       "    <tr>\n",
       "      <th>23466</th>\n",
       "      <td>Ярославская обл</td>\n",
       "      <td>Вирус клещевого энцефалита(кач) РНК</td>\n",
       "      <td>2021-06-03</td>\n",
       "      <td>0.0</td>\n",
       "      <td>2.0</td>\n",
       "      <td>841</td>\n",
       "      <td>6</td>\n",
       "      <td>3</td>\n",
       "    </tr>\n",
       "    <tr>\n",
       "      <th>23467</th>\n",
       "      <td>Ярославская обл</td>\n",
       "      <td>Вирус клещевого энцефалита(кач) РНК</td>\n",
       "      <td>2021-06-04</td>\n",
       "      <td>0.0</td>\n",
       "      <td>1.0</td>\n",
       "      <td>842</td>\n",
       "      <td>6</td>\n",
       "      <td>4</td>\n",
       "    </tr>\n",
       "    <tr>\n",
       "      <th>23468</th>\n",
       "      <td>Ярославская обл</td>\n",
       "      <td>Вирус клещевого энцефалита(кач) РНК</td>\n",
       "      <td>2021-06-08</td>\n",
       "      <td>0.0</td>\n",
       "      <td>2.0</td>\n",
       "      <td>846</td>\n",
       "      <td>6</td>\n",
       "      <td>1</td>\n",
       "    </tr>\n",
       "  </tbody>\n",
       "</table>\n",
       "<p>23469 rows × 8 columns</p>\n",
       "</div>"
      ],
      "text/plain": [
       "                Регион                            Имя теста   date_day  sum  \\\n",
       "0          Адыгея Респ   Borrelia burgdorferi s.l (кач) ДНК 2019-07-30  0.0   \n",
       "1          Адыгея Респ   Borrelia burgdorferi s.l (кач) ДНК 2020-04-25  0.0   \n",
       "2          Адыгея Респ   Borrelia burgdorferi s.l (кач) ДНК 2020-05-19  0.0   \n",
       "3          Адыгея Респ   Borrelia burgdorferi s.l (кач) ДНК 2020-08-01  0.0   \n",
       "4          Адыгея Респ   Borrelia burgdorferi s.l (кач) ДНК 2021-05-11  0.0   \n",
       "...                ...                                  ...        ...  ...   \n",
       "23464  Ярославская обл  Вирус клещевого энцефалита(кач) РНК 2021-05-29  0.0   \n",
       "23465  Ярославская обл  Вирус клещевого энцефалита(кач) РНК 2021-05-31  0.0   \n",
       "23466  Ярославская обл  Вирус клещевого энцефалита(кач) РНК 2021-06-03  0.0   \n",
       "23467  Ярославская обл  Вирус клещевого энцефалита(кач) РНК 2021-06-04  0.0   \n",
       "23468  Ярославская обл  Вирус клещевого энцефалита(кач) РНК 2021-06-08  0.0   \n",
       "\n",
       "       count  time_idx Номер месяца День недели  \n",
       "0        1.0       167            7           1  \n",
       "1        1.0       437            4           5  \n",
       "2        2.0       461            5           1  \n",
       "3        1.0       535            8           5  \n",
       "4        1.0       818            5           1  \n",
       "...      ...       ...          ...         ...  \n",
       "23464    2.0       836            5           5  \n",
       "23465    3.0       838            5           0  \n",
       "23466    2.0       841            6           3  \n",
       "23467    1.0       842            6           4  \n",
       "23468    2.0       846            6           1  \n",
       "\n",
       "[23469 rows x 8 columns]"
      ]
     },
     "execution_count": 5,
     "metadata": {},
     "output_type": "execute_result"
    }
   ],
   "source": [
    "date_min = df[\"date_day\"].min()\n",
    "df['time_idx'] = df[\"date_day\"].apply(lambda x: (x - date_min).days)\n",
    "\n",
    "df['sum'] = df['sum'].astype(float)\n",
    "df['count'] = df['count'].astype(float)\n",
    "\n",
    "df[\"Номер месяца\"] = df[\"date_day\"].dt.month.astype(str).astype('category')\n",
    "df[\"День недели\"] = df[\"date_day\"].dt.weekday.astype(str).astype('category')\n",
    "df"
   ]
  },
  {
   "cell_type": "code",
   "execution_count": 6,
   "id": "af595907",
   "metadata": {},
   "outputs": [
    {
     "data": {
      "text/plain": [
       "0.0      18370\n",
       "1.0       2512\n",
       "2.0        735\n",
       "3.0        464\n",
       "4.0        275\n",
       "         ...  \n",
       "93.0         1\n",
       "116.0        1\n",
       "134.0        1\n",
       "111.0        1\n",
       "99.0         1\n",
       "Name: sum, Length: 124, dtype: int64"
      ]
     },
     "execution_count": 6,
     "metadata": {},
     "output_type": "execute_result"
    }
   ],
   "source": [
    "df['sum'].value_counts()"
   ]
  },
  {
   "cell_type": "code",
   "execution_count": 7,
   "id": "815f3cd8",
   "metadata": {},
   "outputs": [
    {
     "data": {
      "text/plain": [
       "Timestamp('2021-05-26 00:00:00')"
      ]
     },
     "execution_count": 7,
     "metadata": {},
     "output_type": "execute_result"
    }
   ],
   "source": [
    "TEST_PERIOD = timedelta(days=14)\n",
    "CUT_DATE = df[\"date_day\"].max() - TEST_PERIOD\n",
    "CUT_DATE"
   ]
  },
  {
   "cell_type": "code",
   "execution_count": 8,
   "id": "d05c6e19",
   "metadata": {},
   "outputs": [
    {
     "data": {
      "text/plain": [
       "((22240, 8), (1229, 8))"
      ]
     },
     "execution_count": 8,
     "metadata": {},
     "output_type": "execute_result"
    }
   ],
   "source": [
    "df_train = df[df[\"date_day\"] <= CUT_DATE].reset_index(drop=True)\n",
    "df_test = df[df[\"date_day\"] > CUT_DATE].reset_index(drop=True)\n",
    "df_train.shape, df_test.shape"
   ]
  },
  {
   "cell_type": "markdown",
   "id": "f3ee730a",
   "metadata": {},
   "source": [
    "# Dataset creation"
   ]
  },
  {
   "cell_type": "code",
   "execution_count": 9,
   "id": "ddb39f56",
   "metadata": {},
   "outputs": [
    {
     "data": {
      "text/plain": [
       "Регион                  object\n",
       "Имя теста               object\n",
       "date_day        datetime64[ns]\n",
       "sum                    float64\n",
       "count                  float64\n",
       "time_idx                 int64\n",
       "Номер месяца          category\n",
       "День недели           category\n",
       "dtype: object"
      ]
     },
     "execution_count": 9,
     "metadata": {},
     "output_type": "execute_result"
    }
   ],
   "source": [
    "df_train.dtypes"
   ]
  },
  {
   "cell_type": "code",
   "execution_count": 10,
   "id": "21bcb763",
   "metadata": {},
   "outputs": [],
   "source": [
    "STATIC_CATEGORICALS = [\n",
    "    'Регион', 'Имя теста'\n",
    "]\n",
    "STATIC_REALS = []\n",
    "KNOWN_CATEGORICALS = ['Номер месяца', 'День недели']\n",
    "KNOWN_REALS = ['time_idx']\n",
    "UNKNOWN_REALS = ['sum']"
   ]
  },
  {
   "cell_type": "code",
   "execution_count": 11,
   "id": "ee32c488",
   "metadata": {},
   "outputs": [
    {
     "data": {
      "text/html": [
       "<div>\n",
       "<style scoped>\n",
       "    .dataframe tbody tr th:only-of-type {\n",
       "        vertical-align: middle;\n",
       "    }\n",
       "\n",
       "    .dataframe tbody tr th {\n",
       "        vertical-align: top;\n",
       "    }\n",
       "\n",
       "    .dataframe thead th {\n",
       "        text-align: right;\n",
       "    }\n",
       "</style>\n",
       "<table border=\"1\" class=\"dataframe\">\n",
       "  <thead>\n",
       "    <tr style=\"text-align: right;\">\n",
       "      <th></th>\n",
       "      <th>Регион</th>\n",
       "      <th>Имя теста</th>\n",
       "      <th>date_day</th>\n",
       "      <th>sum</th>\n",
       "      <th>count</th>\n",
       "      <th>time_idx</th>\n",
       "      <th>Номер месяца</th>\n",
       "      <th>День недели</th>\n",
       "    </tr>\n",
       "  </thead>\n",
       "  <tbody>\n",
       "    <tr>\n",
       "      <th>0</th>\n",
       "      <td>Адыгея Респ</td>\n",
       "      <td>Borrelia burgdorferi s.l (кач) ДНК</td>\n",
       "      <td>2019-07-30</td>\n",
       "      <td>0.0</td>\n",
       "      <td>1.0</td>\n",
       "      <td>167</td>\n",
       "      <td>7</td>\n",
       "      <td>1</td>\n",
       "    </tr>\n",
       "    <tr>\n",
       "      <th>1</th>\n",
       "      <td>Адыгея Респ</td>\n",
       "      <td>Borrelia burgdorferi s.l (кач) ДНК</td>\n",
       "      <td>2020-04-25</td>\n",
       "      <td>0.0</td>\n",
       "      <td>1.0</td>\n",
       "      <td>437</td>\n",
       "      <td>4</td>\n",
       "      <td>5</td>\n",
       "    </tr>\n",
       "    <tr>\n",
       "      <th>2</th>\n",
       "      <td>Адыгея Респ</td>\n",
       "      <td>Borrelia burgdorferi s.l (кач) ДНК</td>\n",
       "      <td>2020-05-19</td>\n",
       "      <td>0.0</td>\n",
       "      <td>2.0</td>\n",
       "      <td>461</td>\n",
       "      <td>5</td>\n",
       "      <td>1</td>\n",
       "    </tr>\n",
       "    <tr>\n",
       "      <th>3</th>\n",
       "      <td>Адыгея Респ</td>\n",
       "      <td>Borrelia burgdorferi s.l (кач) ДНК</td>\n",
       "      <td>2020-08-01</td>\n",
       "      <td>0.0</td>\n",
       "      <td>1.0</td>\n",
       "      <td>535</td>\n",
       "      <td>8</td>\n",
       "      <td>5</td>\n",
       "    </tr>\n",
       "    <tr>\n",
       "      <th>4</th>\n",
       "      <td>Адыгея Респ</td>\n",
       "      <td>Borrelia burgdorferi s.l (кач) ДНК</td>\n",
       "      <td>2021-05-11</td>\n",
       "      <td>0.0</td>\n",
       "      <td>1.0</td>\n",
       "      <td>818</td>\n",
       "      <td>5</td>\n",
       "      <td>1</td>\n",
       "    </tr>\n",
       "    <tr>\n",
       "      <th>...</th>\n",
       "      <td>...</td>\n",
       "      <td>...</td>\n",
       "      <td>...</td>\n",
       "      <td>...</td>\n",
       "      <td>...</td>\n",
       "      <td>...</td>\n",
       "      <td>...</td>\n",
       "      <td>...</td>\n",
       "    </tr>\n",
       "    <tr>\n",
       "      <th>23464</th>\n",
       "      <td>Ярославская обл</td>\n",
       "      <td>Вирус клещевого энцефалита(кач) РНК</td>\n",
       "      <td>2021-05-29</td>\n",
       "      <td>0.0</td>\n",
       "      <td>2.0</td>\n",
       "      <td>836</td>\n",
       "      <td>5</td>\n",
       "      <td>5</td>\n",
       "    </tr>\n",
       "    <tr>\n",
       "      <th>23465</th>\n",
       "      <td>Ярославская обл</td>\n",
       "      <td>Вирус клещевого энцефалита(кач) РНК</td>\n",
       "      <td>2021-05-31</td>\n",
       "      <td>0.0</td>\n",
       "      <td>3.0</td>\n",
       "      <td>838</td>\n",
       "      <td>5</td>\n",
       "      <td>0</td>\n",
       "    </tr>\n",
       "    <tr>\n",
       "      <th>23466</th>\n",
       "      <td>Ярославская обл</td>\n",
       "      <td>Вирус клещевого энцефалита(кач) РНК</td>\n",
       "      <td>2021-06-03</td>\n",
       "      <td>0.0</td>\n",
       "      <td>2.0</td>\n",
       "      <td>841</td>\n",
       "      <td>6</td>\n",
       "      <td>3</td>\n",
       "    </tr>\n",
       "    <tr>\n",
       "      <th>23467</th>\n",
       "      <td>Ярославская обл</td>\n",
       "      <td>Вирус клещевого энцефалита(кач) РНК</td>\n",
       "      <td>2021-06-04</td>\n",
       "      <td>0.0</td>\n",
       "      <td>1.0</td>\n",
       "      <td>842</td>\n",
       "      <td>6</td>\n",
       "      <td>4</td>\n",
       "    </tr>\n",
       "    <tr>\n",
       "      <th>23468</th>\n",
       "      <td>Ярославская обл</td>\n",
       "      <td>Вирус клещевого энцефалита(кач) РНК</td>\n",
       "      <td>2021-06-08</td>\n",
       "      <td>0.0</td>\n",
       "      <td>2.0</td>\n",
       "      <td>846</td>\n",
       "      <td>6</td>\n",
       "      <td>1</td>\n",
       "    </tr>\n",
       "  </tbody>\n",
       "</table>\n",
       "<p>23469 rows × 8 columns</p>\n",
       "</div>"
      ],
      "text/plain": [
       "                Регион                            Имя теста   date_day  sum  \\\n",
       "0          Адыгея Респ   Borrelia burgdorferi s.l (кач) ДНК 2019-07-30  0.0   \n",
       "1          Адыгея Респ   Borrelia burgdorferi s.l (кач) ДНК 2020-04-25  0.0   \n",
       "2          Адыгея Респ   Borrelia burgdorferi s.l (кач) ДНК 2020-05-19  0.0   \n",
       "3          Адыгея Респ   Borrelia burgdorferi s.l (кач) ДНК 2020-08-01  0.0   \n",
       "4          Адыгея Респ   Borrelia burgdorferi s.l (кач) ДНК 2021-05-11  0.0   \n",
       "...                ...                                  ...        ...  ...   \n",
       "23464  Ярославская обл  Вирус клещевого энцефалита(кач) РНК 2021-05-29  0.0   \n",
       "23465  Ярославская обл  Вирус клещевого энцефалита(кач) РНК 2021-05-31  0.0   \n",
       "23466  Ярославская обл  Вирус клещевого энцефалита(кач) РНК 2021-06-03  0.0   \n",
       "23467  Ярославская обл  Вирус клещевого энцефалита(кач) РНК 2021-06-04  0.0   \n",
       "23468  Ярославская обл  Вирус клещевого энцефалита(кач) РНК 2021-06-08  0.0   \n",
       "\n",
       "       count  time_idx Номер месяца День недели  \n",
       "0        1.0       167            7           1  \n",
       "1        1.0       437            4           5  \n",
       "2        2.0       461            5           1  \n",
       "3        1.0       535            8           5  \n",
       "4        1.0       818            5           1  \n",
       "...      ...       ...          ...         ...  \n",
       "23464    2.0       836            5           5  \n",
       "23465    3.0       838            5           0  \n",
       "23466    2.0       841            6           3  \n",
       "23467    1.0       842            6           4  \n",
       "23468    2.0       846            6           1  \n",
       "\n",
       "[23469 rows x 8 columns]"
      ]
     },
     "execution_count": 11,
     "metadata": {},
     "output_type": "execute_result"
    }
   ],
   "source": [
    "df"
   ]
  },
  {
   "cell_type": "code",
   "execution_count": 12,
   "id": "33b52a3f",
   "metadata": {},
   "outputs": [
    {
     "name": "stderr",
     "output_type": "stream",
     "text": [
      "/home/user/conda/lib/python3.7/site-packages/pytorch_forecasting/data/encoders.py:121: UserWarning: Found 12 unknown classes which were set to NaN\n",
      "  UserWarning,\n",
      "/home/user/conda/lib/python3.7/site-packages/pytorch_forecasting/data/encoders.py:121: UserWarning: Found 7 unknown classes which were set to NaN\n",
      "  UserWarning,\n",
      "/home/user/conda/lib/python3.7/site-packages/pytorch_forecasting/data/encoders.py:621: UserWarning: scale is below 1e-7 - consider not centering the data or using data with higher variance for numerical stability\n",
      "  UserWarning,\n",
      "/home/user/conda/lib/python3.7/site-packages/pytorch_forecasting/data/timeseries.py:1244: UserWarning: Min encoder length and/or min_prediction_idx and/or min prediction length and/or lags are too large for 14 series/groups which therefore are not present in the dataset index. This means no predictions can be made for those series. First 10 removed groups: [{'__group_id__Регион': 'Еврейская АО', '__group_id__Имя теста': 'Borrelia burgdorferi s.l (кач) ДНК'}, {'__group_id__Регион': 'Еврейская АО', '__group_id__Имя теста': 'Вирус клещевого энцефалита(кач) РНК'}, {'__group_id__Регион': 'Кабардино-Балкарская Респ', '__group_id__Имя теста': 'Borrelia burgdorferi s.l (кач) ДНК'}, {'__group_id__Регион': 'Кабардино-Балкарская Респ', '__group_id__Имя теста': 'Вирус клещевого энцефалита(кач) РНК'}, {'__group_id__Регион': 'Кировская обл', '__group_id__Имя теста': 'Borrelia burgdorferi s.l (кач) ДНК'}, {'__group_id__Регион': 'Московская область', '__group_id__Имя теста': 'Borrelia miyamotoi (кач) ДНК'}, {'__group_id__Регион': 'Сахалинская обл', '__group_id__Имя теста': 'Borrelia burgdorferi s.l (кач) ДНК'}, {'__group_id__Регион': 'Тульская обл', '__group_id__Имя теста': 'Anaplasma Phagocytophillum(кач) ДНК'}, {'__group_id__Регион': 'Тульская обл', '__group_id__Имя теста': 'Ehrlichia muris/chaffeеnsis(кач) ДНК'}, {'__group_id__Регион': 'Ханты-Мансийский АО', '__group_id__Имя теста': 'Borrelia miyamotoi (кач) ДНК'}]\n",
      "  UserWarning,\n"
     ]
    },
    {
     "name": "stdout",
     "output_type": "stream",
     "text": [
      "Train dataset length: 29581, train dataloader length: 57\n",
      "Val dataset length: 3814, val dataloader length: 8\n"
     ]
    },
    {
     "name": "stderr",
     "output_type": "stream",
     "text": [
      "/home/user/conda/lib/python3.7/site-packages/pytorch_forecasting/data/encoders.py:121: UserWarning: Found 3 unknown classes which were set to NaN\n",
      "  UserWarning,\n",
      "/home/user/conda/lib/python3.7/site-packages/pytorch_forecasting/data/encoders.py:121: UserWarning: Found 7 unknown classes which were set to NaN\n",
      "  UserWarning,\n",
      "/home/user/conda/lib/python3.7/site-packages/pytorch_forecasting/data/timeseries.py:1244: UserWarning: Min encoder length and/or min_prediction_idx and/or min prediction length and/or lags are too large for 19 series/groups which therefore are not present in the dataset index. This means no predictions can be made for those series. First 10 removed groups: [{'__group_id__Регион': 'Астраханская обл', '__group_id__Имя теста': 'Borrelia burgdorferi s.l (кач) ДНК'}, {'__group_id__Регион': 'Астраханская обл', '__group_id__Имя теста': 'Вирус клещевого энцефалита(кач) РНК'}, {'__group_id__Регион': 'Дагестан Респ', '__group_id__Имя теста': 'Borrelia burgdorferi s.l (кач) ДНК'}, {'__group_id__Регион': 'Дагестан Респ', '__group_id__Имя теста': 'Вирус клещевого энцефалита(кач) РНК'}, {'__group_id__Регион': 'Еврейская АО', '__group_id__Имя теста': 'Borrelia burgdorferi s.l (кач) ДНК'}, {'__group_id__Регион': 'Еврейская АО', '__group_id__Имя теста': 'Вирус клещевого энцефалита(кач) РНК'}, {'__group_id__Регион': 'Забайкальский край', '__group_id__Имя теста': 'Вирус клещевого энцефалита(кач) РНК'}, {'__group_id__Регион': 'Мордовия Респ', '__group_id__Имя теста': 'Borrelia burgdorferi s.l (кач) ДНК'}, {'__group_id__Регион': 'Орловская обл', '__group_id__Имя теста': 'Borrelia burgdorferi s.l (кач) ДНК'}, {'__group_id__Регион': 'Орловская обл', '__group_id__Имя теста': 'Вирус клещевого энцефалита(кач) РНК'}]\n",
      "  UserWarning,\n"
     ]
    }
   ],
   "source": [
    "training = TimeSeriesDataSet(\n",
    "    df_train,\n",
    "    time_idx=\"time_idx\",\n",
    "    target=\"sum\",\n",
    "    group_ids=[\"Регион\", \"Имя теста\"],\n",
    "    min_encoder_length=1,\n",
    "    max_encoder_length=7*4,\n",
    "    min_prediction_length=1,\n",
    "    max_prediction_length=1,\n",
    "    static_categoricals=STATIC_CATEGORICALS,\n",
    "    static_reals=STATIC_REALS,\n",
    "    time_varying_known_categoricals=KNOWN_CATEGORICALS,\n",
    "    time_varying_known_reals=KNOWN_REALS,\n",
    "    time_varying_unknown_reals=UNKNOWN_REALS,\n",
    "    constant_fill_strategy={'sum': 0},\n",
    "    allow_missing_timesteps=True,\n",
    "    add_relative_time_idx=True,\n",
    "    add_target_scales=True,\n",
    "    add_encoder_length=True,\n",
    "    categorical_encoders={ft: NaNLabelEncoder(add_nan=True) for ft in KNOWN_CATEGORICALS},\n",
    "    target_normalizer=GroupNormalizer(\n",
    "        groups=[\"Регион\", \"Имя теста\"], transformation=\"softplus\"\n",
    "    )\n",
    ")\n",
    "\n",
    "# create validation set (predict=True) which means to predict the last max_prediction_length points in time\n",
    "# for each series\n",
    "validation = TimeSeriesDataSet.from_dataset(\n",
    "    training,\n",
    "    df, # on inference, set df[df[\"Дата заказа\"] <= INFERENCE_DATE]\n",
    "#     min_encoder_length=7*10,\n",
    "    min_prediction_idx=int(df_test['time_idx'].min()),\n",
    "    predict=False, # on inference, set predict=True\n",
    "    stop_randomization=True,\n",
    ")\n",
    "\n",
    "# create dataloaders for model\n",
    "batch_size = 512  # set this between 32 to 128\n",
    "train_dataloader = training.to_dataloader(train=True, batch_size=batch_size, num_workers=48, pin_memory=True)\n",
    "val_dataloader = validation.to_dataloader(train=False, batch_size=batch_size, num_workers=48, pin_memory=True)\n",
    "print(f'Train dataset length: {len(training)}, train dataloader length: {len(train_dataloader)}')\n",
    "print(f'Val dataset length: {len(validation)}, val dataloader length: {len(val_dataloader)}')"
   ]
  },
  {
   "cell_type": "code",
   "execution_count": 13,
   "id": "bc44ae98",
   "metadata": {},
   "outputs": [
    {
     "data": {
      "text/html": [
       "<div>\n",
       "<style scoped>\n",
       "    .dataframe tbody tr th:only-of-type {\n",
       "        vertical-align: middle;\n",
       "    }\n",
       "\n",
       "    .dataframe tbody tr th {\n",
       "        vertical-align: top;\n",
       "    }\n",
       "\n",
       "    .dataframe thead th {\n",
       "        text-align: right;\n",
       "    }\n",
       "</style>\n",
       "<table border=\"1\" class=\"dataframe\">\n",
       "  <thead>\n",
       "    <tr style=\"text-align: right;\">\n",
       "      <th></th>\n",
       "      <th>Регион</th>\n",
       "      <th>Имя теста</th>\n",
       "      <th>time_idx_first</th>\n",
       "      <th>time_idx_last</th>\n",
       "      <th>time_idx_first_prediction</th>\n",
       "    </tr>\n",
       "  </thead>\n",
       "  <tbody>\n",
       "    <tr>\n",
       "      <th>0</th>\n",
       "      <td>Адыгея Респ</td>\n",
       "      <td>Borrelia burgdorferi s.l (кач) ДНК</td>\n",
       "      <td>437</td>\n",
       "      <td>461</td>\n",
       "      <td>461</td>\n",
       "    </tr>\n",
       "    <tr>\n",
       "      <th>1</th>\n",
       "      <td>Адыгея Респ</td>\n",
       "      <td>Borrelia burgdorferi s.l (кач) ДНК</td>\n",
       "      <td>818</td>\n",
       "      <td>829</td>\n",
       "      <td>829</td>\n",
       "    </tr>\n",
       "    <tr>\n",
       "      <th>2</th>\n",
       "      <td>Адыгея Респ</td>\n",
       "      <td>Borrelia burgdorferi s.l (кач) ДНК</td>\n",
       "      <td>827</td>\n",
       "      <td>829</td>\n",
       "      <td>829</td>\n",
       "    </tr>\n",
       "    <tr>\n",
       "      <th>3</th>\n",
       "      <td>Адыгея Респ</td>\n",
       "      <td>Вирус клещевого энцефалита(кач) РНК</td>\n",
       "      <td>535</td>\n",
       "      <td>551</td>\n",
       "      <td>551</td>\n",
       "    </tr>\n",
       "    <tr>\n",
       "      <th>4</th>\n",
       "      <td>Адыгея Респ</td>\n",
       "      <td>Вирус клещевого энцефалита(кач) РНК</td>\n",
       "      <td>813</td>\n",
       "      <td>829</td>\n",
       "      <td>829</td>\n",
       "    </tr>\n",
       "    <tr>\n",
       "      <th>...</th>\n",
       "      <td>...</td>\n",
       "      <td>...</td>\n",
       "      <td>...</td>\n",
       "      <td>...</td>\n",
       "      <td>...</td>\n",
       "    </tr>\n",
       "    <tr>\n",
       "      <th>29576</th>\n",
       "      <td>Ярославская обл</td>\n",
       "      <td>Вирус клещевого энцефалита(кач) РНК</td>\n",
       "      <td>791</td>\n",
       "      <td>815</td>\n",
       "      <td>815</td>\n",
       "    </tr>\n",
       "    <tr>\n",
       "      <th>29577</th>\n",
       "      <td>Ярославская обл</td>\n",
       "      <td>Вирус клещевого энцефалита(кач) РНК</td>\n",
       "      <td>794</td>\n",
       "      <td>821</td>\n",
       "      <td>821</td>\n",
       "    </tr>\n",
       "    <tr>\n",
       "      <th>29578</th>\n",
       "      <td>Ярославская обл</td>\n",
       "      <td>Вирус клещевого энцефалита(кач) РНК</td>\n",
       "      <td>800</td>\n",
       "      <td>826</td>\n",
       "      <td>826</td>\n",
       "    </tr>\n",
       "    <tr>\n",
       "      <th>29579</th>\n",
       "      <td>Ярославская обл</td>\n",
       "      <td>Вирус клещевого энцефалита(кач) РНК</td>\n",
       "      <td>800</td>\n",
       "      <td>827</td>\n",
       "      <td>827</td>\n",
       "    </tr>\n",
       "    <tr>\n",
       "      <th>29580</th>\n",
       "      <td>Ярославская обл</td>\n",
       "      <td>Вирус клещевого энцефалита(кач) РНК</td>\n",
       "      <td>806</td>\n",
       "      <td>832</td>\n",
       "      <td>832</td>\n",
       "    </tr>\n",
       "  </tbody>\n",
       "</table>\n",
       "<p>29581 rows × 5 columns</p>\n",
       "</div>"
      ],
      "text/plain": [
       "                Регион                            Имя теста  time_idx_first  \\\n",
       "0          Адыгея Респ   Borrelia burgdorferi s.l (кач) ДНК             437   \n",
       "1          Адыгея Респ   Borrelia burgdorferi s.l (кач) ДНК             818   \n",
       "2          Адыгея Респ   Borrelia burgdorferi s.l (кач) ДНК             827   \n",
       "3          Адыгея Респ  Вирус клещевого энцефалита(кач) РНК             535   \n",
       "4          Адыгея Респ  Вирус клещевого энцефалита(кач) РНК             813   \n",
       "...                ...                                  ...             ...   \n",
       "29576  Ярославская обл  Вирус клещевого энцефалита(кач) РНК             791   \n",
       "29577  Ярославская обл  Вирус клещевого энцефалита(кач) РНК             794   \n",
       "29578  Ярославская обл  Вирус клещевого энцефалита(кач) РНК             800   \n",
       "29579  Ярославская обл  Вирус клещевого энцефалита(кач) РНК             800   \n",
       "29580  Ярославская обл  Вирус клещевого энцефалита(кач) РНК             806   \n",
       "\n",
       "       time_idx_last  time_idx_first_prediction  \n",
       "0                461                        461  \n",
       "1                829                        829  \n",
       "2                829                        829  \n",
       "3                551                        551  \n",
       "4                829                        829  \n",
       "...              ...                        ...  \n",
       "29576            815                        815  \n",
       "29577            821                        821  \n",
       "29578            826                        826  \n",
       "29579            827                        827  \n",
       "29580            832                        832  \n",
       "\n",
       "[29581 rows x 5 columns]"
      ]
     },
     "execution_count": 13,
     "metadata": {},
     "output_type": "execute_result"
    }
   ],
   "source": [
    "training.decoded_index"
   ]
  },
  {
   "cell_type": "code",
   "execution_count": 14,
   "id": "bdd5592e",
   "metadata": {},
   "outputs": [
    {
     "data": {
      "text/html": [
       "<div>\n",
       "<style scoped>\n",
       "    .dataframe tbody tr th:only-of-type {\n",
       "        vertical-align: middle;\n",
       "    }\n",
       "\n",
       "    .dataframe tbody tr th {\n",
       "        vertical-align: top;\n",
       "    }\n",
       "\n",
       "    .dataframe thead th {\n",
       "        text-align: right;\n",
       "    }\n",
       "</style>\n",
       "<table border=\"1\" class=\"dataframe\">\n",
       "  <thead>\n",
       "    <tr style=\"text-align: right;\">\n",
       "      <th></th>\n",
       "      <th>Регион</th>\n",
       "      <th>Имя теста</th>\n",
       "      <th>time_idx_first</th>\n",
       "      <th>time_idx_last</th>\n",
       "      <th>time_idx_first_prediction</th>\n",
       "    </tr>\n",
       "  </thead>\n",
       "  <tbody>\n",
       "    <tr>\n",
       "      <th>0</th>\n",
       "      <td>Адыгея Респ</td>\n",
       "      <td>Borrelia burgdorferi s.l (кач) ДНК</td>\n",
       "      <td>818</td>\n",
       "      <td>844</td>\n",
       "      <td>844</td>\n",
       "    </tr>\n",
       "    <tr>\n",
       "      <th>1</th>\n",
       "      <td>Адыгея Респ</td>\n",
       "      <td>Borrelia burgdorferi s.l (кач) ДНК</td>\n",
       "      <td>827</td>\n",
       "      <td>844</td>\n",
       "      <td>844</td>\n",
       "    </tr>\n",
       "    <tr>\n",
       "      <th>2</th>\n",
       "      <td>Адыгея Респ</td>\n",
       "      <td>Borrelia burgdorferi s.l (кач) ДНК</td>\n",
       "      <td>829</td>\n",
       "      <td>844</td>\n",
       "      <td>844</td>\n",
       "    </tr>\n",
       "    <tr>\n",
       "      <th>3</th>\n",
       "      <td>Адыгея Респ</td>\n",
       "      <td>Borrelia burgdorferi s.l (кач) ДНК</td>\n",
       "      <td>836</td>\n",
       "      <td>844</td>\n",
       "      <td>844</td>\n",
       "    </tr>\n",
       "    <tr>\n",
       "      <th>4</th>\n",
       "      <td>Адыгея Респ</td>\n",
       "      <td>Borrelia burgdorferi s.l (кач) ДНК</td>\n",
       "      <td>839</td>\n",
       "      <td>844</td>\n",
       "      <td>844</td>\n",
       "    </tr>\n",
       "    <tr>\n",
       "      <th>...</th>\n",
       "      <td>...</td>\n",
       "      <td>...</td>\n",
       "      <td>...</td>\n",
       "      <td>...</td>\n",
       "      <td>...</td>\n",
       "    </tr>\n",
       "    <tr>\n",
       "      <th>3809</th>\n",
       "      <td>Ярославская обл</td>\n",
       "      <td>Borrelia burgdorferi s.l (кач) ДНК</td>\n",
       "      <td>815</td>\n",
       "      <td>842</td>\n",
       "      <td>842</td>\n",
       "    </tr>\n",
       "    <tr>\n",
       "      <th>3810</th>\n",
       "      <td>Ярославская обл</td>\n",
       "      <td>Вирус клещевого энцефалита(кач) РНК</td>\n",
       "      <td>812</td>\n",
       "      <td>835</td>\n",
       "      <td>835</td>\n",
       "    </tr>\n",
       "    <tr>\n",
       "      <th>3811</th>\n",
       "      <td>Ярославская обл</td>\n",
       "      <td>Вирус клещевого энцефалита(кач) РНК</td>\n",
       "      <td>812</td>\n",
       "      <td>836</td>\n",
       "      <td>836</td>\n",
       "    </tr>\n",
       "    <tr>\n",
       "      <th>3812</th>\n",
       "      <td>Ярославская обл</td>\n",
       "      <td>Вирус клещевого энцефалита(кач) РНК</td>\n",
       "      <td>812</td>\n",
       "      <td>838</td>\n",
       "      <td>838</td>\n",
       "    </tr>\n",
       "    <tr>\n",
       "      <th>3813</th>\n",
       "      <td>Ярославская обл</td>\n",
       "      <td>Вирус клещевого энцефалита(кач) РНК</td>\n",
       "      <td>815</td>\n",
       "      <td>842</td>\n",
       "      <td>842</td>\n",
       "    </tr>\n",
       "  </tbody>\n",
       "</table>\n",
       "<p>3814 rows × 5 columns</p>\n",
       "</div>"
      ],
      "text/plain": [
       "               Регион                            Имя теста  time_idx_first  \\\n",
       "0         Адыгея Респ   Borrelia burgdorferi s.l (кач) ДНК             818   \n",
       "1         Адыгея Респ   Borrelia burgdorferi s.l (кач) ДНК             827   \n",
       "2         Адыгея Респ   Borrelia burgdorferi s.l (кач) ДНК             829   \n",
       "3         Адыгея Респ   Borrelia burgdorferi s.l (кач) ДНК             836   \n",
       "4         Адыгея Респ   Borrelia burgdorferi s.l (кач) ДНК             839   \n",
       "...               ...                                  ...             ...   \n",
       "3809  Ярославская обл   Borrelia burgdorferi s.l (кач) ДНК             815   \n",
       "3810  Ярославская обл  Вирус клещевого энцефалита(кач) РНК             812   \n",
       "3811  Ярославская обл  Вирус клещевого энцефалита(кач) РНК             812   \n",
       "3812  Ярославская обл  Вирус клещевого энцефалита(кач) РНК             812   \n",
       "3813  Ярославская обл  Вирус клещевого энцефалита(кач) РНК             815   \n",
       "\n",
       "      time_idx_last  time_idx_first_prediction  \n",
       "0               844                        844  \n",
       "1               844                        844  \n",
       "2               844                        844  \n",
       "3               844                        844  \n",
       "4               844                        844  \n",
       "...             ...                        ...  \n",
       "3809            842                        842  \n",
       "3810            835                        835  \n",
       "3811            836                        836  \n",
       "3812            838                        838  \n",
       "3813            842                        842  \n",
       "\n",
       "[3814 rows x 5 columns]"
      ]
     },
     "execution_count": 14,
     "metadata": {},
     "output_type": "execute_result"
    }
   ],
   "source": [
    "validation.decoded_index"
   ]
  },
  {
   "cell_type": "code",
   "execution_count": 15,
   "id": "f2adf0e5",
   "metadata": {},
   "outputs": [
    {
     "data": {
      "text/plain": [
       "([834, 835, 836, 837, 838, 839, 840, 841, 842, 843, 844, 845, 846, 847], 14)"
      ]
     },
     "execution_count": 15,
     "metadata": {},
     "output_type": "execute_result"
    }
   ],
   "source": [
    "sorted(validation.decoded_index['time_idx_last'].unique()), len(sorted(validation.decoded_index['time_idx_last'].unique()))"
   ]
  },
  {
   "cell_type": "code",
   "execution_count": 16,
   "id": "f5f51216",
   "metadata": {},
   "outputs": [],
   "source": [
    "def calculate_metrics(y_true, y_pred):\n",
    "    mae = mean_absolute_error(y_true, y_pred)\n",
    "    mae_rounded = mean_absolute_error(y_true, y_pred.round())\n",
    "    mape = mean_absolute_percentage_error(y_true, y_pred)\n",
    "    mape_rounded = mean_absolute_percentage_error(y_true, y_pred.round())\n",
    "    smape = SMAPE()(y_true, y_pred).item()\n",
    "    smape_rounded = SMAPE()(y_true, y_pred.round()).item()\n",
    "    print(f'MAE: {mae:.4f}, rounded: {mae_rounded:.4f}')\n",
    "    print(f'MAPE: {mape:.4f}, rounded: {mape_rounded:.4f}')\n",
    "    print(f'SMAPE: {smape:.4f}, rounded: {smape_rounded:.4f}')"
   ]
  },
  {
   "cell_type": "code",
   "execution_count": 17,
   "id": "cc4c683f",
   "metadata": {},
   "outputs": [
    {
     "name": "stdout",
     "output_type": "stream",
     "text": [
      "Baseline predictions\n",
      "MAE: 1.6529, rounded: 1.6529\n",
      "MAPE: 1799550494834688.0000, rounded: 1799550494834688.0000\n",
      "SMAPE: 0.4824, rounded: 0.4824\n"
     ]
    }
   ],
   "source": [
    "print('Baseline predictions')\n",
    "actuals = torch.cat([y for x, (y, _) in iter(val_dataloader)])\n",
    "baseline_predictions = Baseline().predict(val_dataloader)\n",
    "calculate_metrics(actuals, baseline_predictions)"
   ]
  },
  {
   "cell_type": "code",
   "execution_count": 18,
   "id": "38c24dcb",
   "metadata": {},
   "outputs": [
    {
     "data": {
      "text/plain": [
       "1061"
      ]
     },
     "execution_count": 18,
     "metadata": {},
     "output_type": "execute_result"
    }
   ],
   "source": [
    "inference_idx = validation.decoded_index[validation.decoded_index['time_idx_last'] == 847].index\n",
    "len(inference_idx)"
   ]
  },
  {
   "cell_type": "code",
   "execution_count": 19,
   "id": "697ad061",
   "metadata": {},
   "outputs": [
    {
     "name": "stdout",
     "output_type": "stream",
     "text": [
      "MAE: 4.3402, rounded: 4.3402\n",
      "MAPE: 5165768694038528.0000, rounded: 5165768694038528.0000\n",
      "SMAPE: 0.6708, rounded: 0.6708\n"
     ]
    }
   ],
   "source": [
    "calculate_metrics(actuals[inference_idx], baseline_predictions[inference_idx])"
   ]
  },
  {
   "cell_type": "code",
   "execution_count": 20,
   "id": "a5230099",
   "metadata": {},
   "outputs": [
    {
     "data": {
      "image/png": "[encoded data removed]",
      "text/plain": [
       "<Figure size 828x612 with 1 Axes>"
      ]
     },
     "metadata": {
      "needs_background": "light"
     },
     "output_type": "display_data"
    }
   ],
   "source": [
    "plt.figure(figsize=(11.5, 8.5))\n",
    "plt.hist(baseline_predictions.numpy().ravel(), bins=20, alpha=0.5, label='baseline')\n",
    "plt.hist(actuals.numpy().ravel(), bins=20, alpha=0.5, label='target')\n",
    "plt.legend(loc='best')\n",
    "plt.show()"
   ]
  },
  {
   "cell_type": "markdown",
   "id": "b3cfc4c6",
   "metadata": {},
   "source": [
    "# Training"
   ]
  },
  {
   "cell_type": "code",
   "execution_count": 21,
   "id": "85aa65d7",
   "metadata": {},
   "outputs": [
    {
     "name": "stderr",
     "output_type": "stream",
     "text": [
      "Global seed set to 13\n",
      "GPU available: True, used: True\n",
      "TPU available: False, using: 0 TPU cores\n"
     ]
    },
    {
     "name": "stdout",
     "output_type": "stream",
     "text": [
      "TensorBoardLogger to lightning_logs_sum/v03-mae-min_encoder_length-1\n",
      "Number of parameters in network: 9.1k\n"
     ]
    }
   ],
   "source": [
    "early_stop_callback = EarlyStopping(monitor=\"val_loss\", min_delta=1e-7, patience=20, verbose=False, mode=\"min\")\n",
    "\n",
    "# try:\n",
    "#     lighting_logs_folder = f\"logs-{environment}-{cfg.exp_name}\"\n",
    "# except:\n",
    "#     lighting_logs_folder = f\"logs-jupyter\"\n",
    "lighting_logs_folder = 'lightning_logs_sum'\n",
    "lightning_logs_name = 'v03-mae-min_encoder_length-1'\n",
    "\n",
    "pathlib.Path(os.path.join(lighting_logs_folder, lightning_logs_name)).mkdir(parents=True, exist_ok=True)\n",
    "\n",
    "logger = TensorBoardLogger(lighting_logs_folder, name=lightning_logs_name)  # logging results to a tensorboard\n",
    "print(f\"TensorBoardLogger to {lighting_logs_folder}/{lightning_logs_name}\")\n",
    "lr_monitor = LearningRateMonitor(logging_interval='step')\n",
    "\n",
    "# configure network and trainer\n",
    "pl.seed_everything(13)\n",
    "trainer = pl.Trainer(\n",
    "    gpus=1,\n",
    "    # clipping gradients is a hyperparameter and important to prevent divergance\n",
    "    # of the gradient for recurrent neural networks\n",
    "    gradient_clip_val=0.5,\n",
    "#     accumulate_grad_batches=4,\n",
    "    max_epochs=1000,\n",
    "    stochastic_weight_avg=True,\n",
    "    callbacks=[early_stop_callback, lr_monitor],\n",
    "    logger=logger\n",
    ")\n",
    "\n",
    "#     trainer = pl.Trainer(**cfg.trainer,\n",
    "#                          callbacks=[early_stop_callback, lr_monitor],\n",
    "#                          logger=logger\n",
    "#                         )\n",
    "\n",
    "tft = TemporalFusionTransformer.from_dataset(\n",
    "    training,\n",
    "#     weight_decay=0.1,\n",
    "    learning_rate=0.001,\n",
    "    hidden_size=8,\n",
    "    lstm_layers=2,\n",
    "    attention_head_size=4,\n",
    "    dropout=0.3,\n",
    "    hidden_continuous_size=8,\n",
    "    output_size=1,\n",
    "    loss=MAE()\n",
    ")\n",
    "print(f\"Number of parameters in network: {tft.size()/1e3:.1f}k\")"
   ]
  },
  {
   "cell_type": "code",
   "execution_count": null,
   "id": "3970c4ef",
   "metadata": {},
   "outputs": [
    {
     "name": "stderr",
     "output_type": "stream",
     "text": [
      "LOCAL_RANK: 0 - CUDA_VISIBLE_DEVICES: [0]\n",
      "\n",
      "   | Name                               | Type                            | Params\n",
      "----------------------------------------------------------------------------------------\n",
      "0  | loss                               | MAE                             | 0     \n",
      "1  | logging_metrics                    | ModuleList                      | 0     \n",
      "2  | input_embeddings                   | MultiEmbedding                  | 687   \n",
      "3  | prescalers                         | ModuleDict                      | 96    \n",
      "4  | static_variable_selection          | VariableSelectionNetwork        | 1.3 K \n",
      "5  | encoder_variable_selection         | VariableSelectionNetwork        | 1.3 K \n",
      "6  | decoder_variable_selection         | VariableSelectionNetwork        | 916   \n",
      "7  | static_context_variable_selection  | GatedResidualNetwork            | 304   \n",
      "8  | static_context_initial_hidden_lstm | GatedResidualNetwork            | 304   \n",
      "9  | static_context_initial_cell_lstm   | GatedResidualNetwork            | 304   \n",
      "10 | static_context_enrichment          | GatedResidualNetwork            | 304   \n",
      "11 | lstm_encoder                       | LSTM                            | 1.2 K \n",
      "12 | lstm_decoder                       | LSTM                            | 1.2 K \n",
      "13 | post_lstm_gate_encoder             | GatedLinearUnit                 | 144   \n",
      "14 | post_lstm_add_norm_encoder         | AddNorm                         | 16    \n",
      "15 | static_enrichment                  | GatedResidualNetwork            | 368   \n",
      "16 | multihead_attn                     | InterpretableMultiHeadAttention | 178   \n",
      "17 | post_attn_gate_norm                | GateAddNorm                     | 160   \n",
      "18 | pos_wise_ff                        | GatedResidualNetwork            | 304   \n",
      "19 | pre_output_gate_norm               | GateAddNorm                     | 160   \n",
      "20 | output_layer                       | Linear                          | 9     \n",
      "----------------------------------------------------------------------------------------\n",
      "9.1 K     Trainable params\n",
      "0         Non-trainable params\n",
      "9.1 K     Total params\n",
      "0.036     Total estimated model params size (MB)\n"
     ]
    },
    {
     "data": {
      "application/vnd.jupyter.widget-view+json": {
       "model_id": "",
       "version_major": 2,
       "version_minor": 0
      },
      "text/plain": [
       "Validation sanity check: 0it [00:00, ?it/s]"
      ]
     },
     "metadata": {},
     "output_type": "display_data"
    },
    {
     "name": "stderr",
     "output_type": "stream",
     "text": [
      "Global seed set to 13\n"
     ]
    },
    {
     "data": {
      "application/vnd.jupyter.widget-view+json": {
       "model_id": "b554ee2c5f744c348a7be580e1bc285f",
       "version_major": 2,
       "version_minor": 0
      },
      "text/plain": [
       "Training: 0it [00:00, ?it/s]"
      ]
     },
     "metadata": {},
     "output_type": "display_data"
    },
    {
     "name": "stderr",
     "output_type": "stream",
     "text": [
      "/home/user/conda/lib/python3.7/site-packages/pytorch_lightning/trainer/callback_hook.py:101: LightningDeprecationWarning: The signature of `Callback.on_train_epoch_end` has changed in v1.3. `outputs` parameter has been removed. Support for the old signature will be removed in v1.5\n",
      "  \"The signature of `Callback.on_train_epoch_end` has changed in v1.3.\"\n"
     ]
    },
    {
     "data": {
      "application/vnd.jupyter.widget-view+json": {
       "model_id": "",
       "version_major": 2,
       "version_minor": 0
      },
      "text/plain": [
       "Validating: 0it [00:00, ?it/s]"
      ]
     },
     "metadata": {},
     "output_type": "display_data"
    },
    {
     "name": "stderr",
     "output_type": "stream",
     "text": [
      "/home/user/conda/lib/python3.7/site-packages/pytorch_lightning/callbacks/model_checkpoint.py:611: LightningDeprecationWarning: Relying on `self.log('val_loss', ...)` to set the ModelCheckpoint monitor is deprecated in v1.2 and will be removed in v1.4. Please, create your own `mc = ModelCheckpoint(monitor='your_monitor')` and use it as `Trainer(callbacks=[mc])`.\n",
      "  \"Relying on `self.log('val_loss', ...)` to set the ModelCheckpoint monitor is deprecated in v1.2\"\n"
     ]
    },
    {
     "data": {
      "application/vnd.jupyter.widget-view+json": {
       "model_id": "",
       "version_major": 2,
       "version_minor": 0
      },
      "text/plain": [
       "Validating: 0it [00:00, ?it/s]"
      ]
     },
     "metadata": {},
     "output_type": "display_data"
    },
    {
     "data": {
      "application/vnd.jupyter.widget-view+json": {
       "model_id": "",
       "version_major": 2,
       "version_minor": 0
      },
      "text/plain": [
       "Validating: 0it [00:00, ?it/s]"
      ]
     },
     "metadata": {},
     "output_type": "display_data"
    },
    {
     "data": {
      "application/vnd.jupyter.widget-view+json": {
       "model_id": "",
       "version_major": 2,
       "version_minor": 0
      },
      "text/plain": [
       "Validating: 0it [00:00, ?it/s]"
      ]
     },
     "metadata": {},
     "output_type": "display_data"
    },
    {
     "data": {
      "application/vnd.jupyter.widget-view+json": {
       "model_id": "",
       "version_major": 2,
       "version_minor": 0
      },
      "text/plain": [
       "Validating: 0it [00:00, ?it/s]"
      ]
     },
     "metadata": {},
     "output_type": "display_data"
    },
    {
     "data": {
      "application/vnd.jupyter.widget-view+json": {
       "model_id": "",
       "version_major": 2,
       "version_minor": 0
      },
      "text/plain": [
       "Validating: 0it [00:00, ?it/s]"
      ]
     },
     "metadata": {},
     "output_type": "display_data"
    }
   ],
   "source": [
    "%%time\n",
    "# fit network\n",
    "trainer.fit(\n",
    "    tft,\n",
    "    train_dataloader=train_dataloader,\n",
    "    val_dataloaders=val_dataloader,\n",
    ")"
   ]
  },
  {
   "cell_type": "markdown",
   "id": "57d5193c",
   "metadata": {},
   "source": [
    "# Results"
   ]
  },
  {
   "cell_type": "code",
   "execution_count": 23,
   "id": "de056a3e",
   "metadata": {},
   "outputs": [
    {
     "data": {
      "text/plain": [
       "'lightning_logs_sum/v03-mae-min_encoder_length-1/version_0/checkpoints/epoch=86-step=4958.ckpt'"
      ]
     },
     "execution_count": 23,
     "metadata": {},
     "output_type": "execute_result"
    }
   ],
   "source": [
    "trainer.checkpoint_callback.best_model_path"
   ]
  },
  {
   "cell_type": "code",
   "execution_count": 24,
   "id": "7f82ee2b",
   "metadata": {},
   "outputs": [],
   "source": [
    "# best_model_path = trainer.checkpoint_callback.best_model_path\n",
    "best_model_path = 'lightning_logs_sum/v03-mae-min_encoder_length-1/version_0/checkpoints/epoch=86-step=4958.ckpt'\n",
    "best_tft = TemporalFusionTransformer.load_from_checkpoint(best_model_path).cuda()"
   ]
  },
  {
   "cell_type": "code",
   "execution_count": 25,
   "id": "4a38dfd6",
   "metadata": {},
   "outputs": [
    {
     "name": "stdout",
     "output_type": "stream",
     "text": [
      "TFT predictions\n",
      "MAE: 1.3540, rounded: 1.2412\n",
      "MAPE: 2444768667762688.0000, rounded: 1955417139707904.0000\n",
      "SMAPE: 1.7999, rounded: 0.8571\n",
      "CPU times: user 1.41 s, sys: 7.73 s, total: 9.14 s\n",
      "Wall time: 20.9 s\n"
     ]
    }
   ],
   "source": [
    "%%time\n",
    "\n",
    "print('TFT predictions')\n",
    "# actuals = torch.cat([y for x, (y, _) in iter(val_dataloader)])\n",
    "tft_predictions = best_tft.predict(val_dataloader)\n",
    "calculate_metrics(actuals, tft_predictions)"
   ]
  },
  {
   "cell_type": "code",
   "execution_count": 26,
   "id": "646b474d",
   "metadata": {},
   "outputs": [
    {
     "name": "stdout",
     "output_type": "stream",
     "text": [
      "MAE: 2.5640, rounded: 2.5382\n",
      "MAPE: 3391800366596096.0000, rounded: 3289622826188800.0000\n",
      "SMAPE: 1.6846, rounded: 0.7742\n"
     ]
    }
   ],
   "source": [
    "calculate_metrics(actuals[inference_idx], tft_predictions[inference_idx])"
   ]
  },
  {
   "cell_type": "code",
   "execution_count": 27,
   "id": "b0d36fb7",
   "metadata": {},
   "outputs": [
    {
     "data": {
      "image/png": "[encoded data removed]",
      "text/plain": [
       "<Figure size 828x612 with 1 Axes>"
      ]
     },
     "metadata": {
      "needs_background": "light"
     },
     "output_type": "display_data"
    }
   ],
   "source": [
    "plt.figure(figsize=(11.5, 8.5))\n",
    "plt.hist(baseline_predictions.numpy().ravel(), bins=20, alpha=0.5, label='baseline')\n",
    "plt.hist(actuals.numpy().ravel(), bins=20, alpha=0.5, label='target')\n",
    "plt.hist(tft_predictions.numpy().ravel(), bins=20, alpha=0.5, label='model predictions')\n",
    "plt.legend(loc='best')\n",
    "plt.show()"
   ]
  },
  {
   "cell_type": "markdown",
   "id": "bdc78575",
   "metadata": {},
   "source": [
    "# Inference"
   ]
  },
  {
   "cell_type": "code",
   "execution_count": 28,
   "id": "caa27662",
   "metadata": {},
   "outputs": [
    {
     "name": "stdout",
     "output_type": "stream",
     "text": [
      "Total regions: 67\n"
     ]
    }
   ],
   "source": [
    "INFERENCE_PREDICTION_LENGTH = 19\n",
    "MAX_ENCODER_LENGTH = 28\n",
    "INFERENCE_MIN_PREDICTION_IDX = 848\n",
    "INFERENCE_DATES = pd.date_range('2021-06-09', '2021-06-27')\n",
    "INFERENCE_MONTH = pd.Series([6] * INFERENCE_PREDICTION_LENGTH).astype(str).astype('category')\n",
    "INFERENCE_WEEKDAY = pd.Series([x.weekday() for x in pd.date_range('2021-06-09', '2021-06-27')]).astype(str).astype('category')\n",
    "INFERENCE_TIME_IDX = pd.Series(np.arange(INFERENCE_MIN_PREDICTION_IDX, INFERENCE_MIN_PREDICTION_IDX + INFERENCE_PREDICTION_LENGTH))\n",
    "\n",
    "test_cols = [\n",
    "    'Anaplasma Phagocytophillum(кач) ДНК',\n",
    "    'Borrelia burgdorferi s.l (кач) ДНК',\n",
    "    'Borrelia miyamotoi (кач) ДНК',\n",
    "    'Ehrlichia muris/chaffeеnsis(кач) ДНК',\n",
    "    'Вирус клещевого энцефалита(кач) РНК'\n",
    "]\n",
    "\n",
    "regions = sorted(df['Регион'].unique())\n",
    "print('Total regions:', len(regions))\n",
    "regions_submission_column = []\n",
    "dates_submission_column = []\n",
    "for r in regions:\n",
    "    regions_submission_column += [r] * INFERENCE_PREDICTION_LENGTH\n",
    "    dates_submission_column += INFERENCE_DATES"
   ]
  },
  {
   "cell_type": "code",
   "execution_count": 29,
   "id": "dfc79483",
   "metadata": {},
   "outputs": [
    {
     "data": {
      "text/html": [
       "<div>\n",
       "<style scoped>\n",
       "    .dataframe tbody tr th:only-of-type {\n",
       "        vertical-align: middle;\n",
       "    }\n",
       "\n",
       "    .dataframe tbody tr th {\n",
       "        vertical-align: top;\n",
       "    }\n",
       "\n",
       "    .dataframe thead th {\n",
       "        text-align: right;\n",
       "    }\n",
       "</style>\n",
       "<table border=\"1\" class=\"dataframe\">\n",
       "  <thead>\n",
       "    <tr style=\"text-align: right;\">\n",
       "      <th></th>\n",
       "      <th>region</th>\n",
       "    </tr>\n",
       "  </thead>\n",
       "  <tbody>\n",
       "    <tr>\n",
       "      <th>2021-06-09</th>\n",
       "      <td>Адыгея Респ</td>\n",
       "    </tr>\n",
       "    <tr>\n",
       "      <th>2021-06-10</th>\n",
       "      <td>Адыгея Респ</td>\n",
       "    </tr>\n",
       "    <tr>\n",
       "      <th>2021-06-11</th>\n",
       "      <td>Адыгея Респ</td>\n",
       "    </tr>\n",
       "    <tr>\n",
       "      <th>2021-06-12</th>\n",
       "      <td>Адыгея Респ</td>\n",
       "    </tr>\n",
       "    <tr>\n",
       "      <th>2021-06-13</th>\n",
       "      <td>Адыгея Респ</td>\n",
       "    </tr>\n",
       "    <tr>\n",
       "      <th>...</th>\n",
       "      <td>...</td>\n",
       "    </tr>\n",
       "    <tr>\n",
       "      <th>2021-06-23</th>\n",
       "      <td>Ярославская обл</td>\n",
       "    </tr>\n",
       "    <tr>\n",
       "      <th>2021-06-24</th>\n",
       "      <td>Ярославская обл</td>\n",
       "    </tr>\n",
       "    <tr>\n",
       "      <th>2021-06-25</th>\n",
       "      <td>Ярославская обл</td>\n",
       "    </tr>\n",
       "    <tr>\n",
       "      <th>2021-06-26</th>\n",
       "      <td>Ярославская обл</td>\n",
       "    </tr>\n",
       "    <tr>\n",
       "      <th>2021-06-27</th>\n",
       "      <td>Ярославская обл</td>\n",
       "    </tr>\n",
       "  </tbody>\n",
       "</table>\n",
       "<p>1273 rows × 1 columns</p>\n",
       "</div>"
      ],
      "text/plain": [
       "                     region\n",
       "2021-06-09      Адыгея Респ\n",
       "2021-06-10      Адыгея Респ\n",
       "2021-06-11      Адыгея Респ\n",
       "2021-06-12      Адыгея Респ\n",
       "2021-06-13      Адыгея Респ\n",
       "...                     ...\n",
       "2021-06-23  Ярославская обл\n",
       "2021-06-24  Ярославская обл\n",
       "2021-06-25  Ярославская обл\n",
       "2021-06-26  Ярославская обл\n",
       "2021-06-27  Ярославская обл\n",
       "\n",
       "[1273 rows x 1 columns]"
      ]
     },
     "execution_count": 29,
     "metadata": {},
     "output_type": "execute_result"
    }
   ],
   "source": [
    "df_submission = pd.DataFrame({'region': regions_submission_column}, index=dates_submission_column)\n",
    "df_submission"
   ]
  },
  {
   "cell_type": "code",
   "execution_count": 30,
   "id": "67dc5ac8",
   "metadata": {},
   "outputs": [],
   "source": [
    "import warnings\n",
    "warnings.filterwarnings('ignore')"
   ]
  },
  {
   "cell_type": "code",
   "execution_count": 33,
   "id": "ba43c5fe",
   "metadata": {},
   "outputs": [
    {
     "name": "stderr",
     "output_type": "stream",
     "text": [
      "100%|██████████| 67/67 [00:04<00:00, 13.88it/s]\n",
      "100%|██████████| 67/67 [00:13<00:00,  5.06it/s]\n",
      "100%|██████████| 67/67 [00:01<00:00, 36.49it/s]\n",
      "100%|██████████| 67/67 [00:04<00:00, 14.68it/s]\n",
      "100%|██████████| 67/67 [00:14<00:00,  4.50it/s]"
     ]
    },
    {
     "name": "stdout",
     "output_type": "stream",
     "text": [
      "Errors:\n",
      "[]\n"
     ]
    },
    {
     "name": "stderr",
     "output_type": "stream",
     "text": [
      "\n"
     ]
    }
   ],
   "source": [
    "errors = []\n",
    "for test in test_cols:\n",
    "    for region in tqdm(regions):\n",
    "        df_region_test = df[(df['Регион'] == region) & (df['Имя теста'] == test)]\n",
    "        if len(df_region_test) > 0:\n",
    "            encoder_data = df_region_test[lambda x: x.time_idx > INFERENCE_MIN_PREDICTION_IDX - 1 - MAX_ENCODER_LENGTH]\n",
    "            decoder_data = pd.DataFrame({\n",
    "                'Регион': [region] * INFERENCE_PREDICTION_LENGTH,\n",
    "                'Имя теста': [test] * INFERENCE_PREDICTION_LENGTH,\n",
    "                'date_day': INFERENCE_DATES,\n",
    "                'sum': 0.0,\n",
    "                'time_idx': INFERENCE_TIME_IDX,\n",
    "                'Номер месяца': INFERENCE_MONTH,\n",
    "                'День недели': INFERENCE_WEEKDAY\n",
    "            })\n",
    "            new_prediction_data = pd.concat([encoder_data, decoder_data], ignore_index=True)\n",
    "            one_pair = TimeSeriesDataSet.from_dataset(\n",
    "                validation,\n",
    "                new_prediction_data,\n",
    "                stop_randomization=True,\n",
    "                min_encoder_length=int(INFERENCE_MIN_PREDICTION_IDX - new_prediction_data['time_idx'].min()),\n",
    "                min_prediction_idx=INFERENCE_MIN_PREDICTION_IDX,\n",
    "                min_prediction_length=INFERENCE_PREDICTION_LENGTH,\n",
    "                max_prediction_length=INFERENCE_PREDICTION_LENGTH\n",
    "            )\n",
    "            one_pair_dataloader = one_pair.to_dataloader(train=False, batch_size=1, num_workers=0)\n",
    "            if len(one_pair_dataloader) != 1:\n",
    "                errors.append((region, test, len(one_pair_dataloader)))\n",
    "            predictions_one_pair = best_tft.predict(one_pair_dataloader).numpy().ravel()\n",
    "            df_submission.loc[df_submission['region'] == region, test + ' sum'] = predictions_one_pair\n",
    "        else:\n",
    "            df_submission.loc[df_submission['region'] == region, test + ' sum'] = 0.0\n",
    "print('Errors:')\n",
    "print(errors)"
   ]
  },
  {
   "cell_type": "code",
   "execution_count": 34,
   "id": "52c8a24c",
   "metadata": {},
   "outputs": [
    {
     "data": {
      "text/html": [
       "<div>\n",
       "<style scoped>\n",
       "    .dataframe tbody tr th:only-of-type {\n",
       "        vertical-align: middle;\n",
       "    }\n",
       "\n",
       "    .dataframe tbody tr th {\n",
       "        vertical-align: top;\n",
       "    }\n",
       "\n",
       "    .dataframe thead th {\n",
       "        text-align: right;\n",
       "    }\n",
       "</style>\n",
       "<table border=\"1\" class=\"dataframe\">\n",
       "  <thead>\n",
       "    <tr style=\"text-align: right;\">\n",
       "      <th></th>\n",
       "      <th>region</th>\n",
       "      <th>Anaplasma Phagocytophillum(кач) ДНК sum</th>\n",
       "      <th>Borrelia burgdorferi s.l (кач) ДНК sum</th>\n",
       "      <th>Borrelia miyamotoi (кач) ДНК sum</th>\n",
       "      <th>Ehrlichia muris/chaffeеnsis(кач) ДНК sum</th>\n",
       "      <th>Вирус клещевого энцефалита(кач) РНК sum</th>\n",
       "    </tr>\n",
       "  </thead>\n",
       "  <tbody>\n",
       "    <tr>\n",
       "      <th>2021-06-09</th>\n",
       "      <td>Адыгея Респ</td>\n",
       "      <td>0.0</td>\n",
       "      <td>0.033409</td>\n",
       "      <td>0.0</td>\n",
       "      <td>0.0</td>\n",
       "      <td>1.313262</td>\n",
       "    </tr>\n",
       "    <tr>\n",
       "      <th>2021-06-10</th>\n",
       "      <td>Адыгея Респ</td>\n",
       "      <td>0.0</td>\n",
       "      <td>0.033389</td>\n",
       "      <td>0.0</td>\n",
       "      <td>0.0</td>\n",
       "      <td>1.313262</td>\n",
       "    </tr>\n",
       "    <tr>\n",
       "      <th>2021-06-11</th>\n",
       "      <td>Адыгея Респ</td>\n",
       "      <td>0.0</td>\n",
       "      <td>0.033428</td>\n",
       "      <td>0.0</td>\n",
       "      <td>0.0</td>\n",
       "      <td>1.313262</td>\n",
       "    </tr>\n",
       "    <tr>\n",
       "      <th>2021-06-12</th>\n",
       "      <td>Адыгея Респ</td>\n",
       "      <td>0.0</td>\n",
       "      <td>0.033442</td>\n",
       "      <td>0.0</td>\n",
       "      <td>0.0</td>\n",
       "      <td>1.313262</td>\n",
       "    </tr>\n",
       "    <tr>\n",
       "      <th>2021-06-13</th>\n",
       "      <td>Адыгея Респ</td>\n",
       "      <td>0.0</td>\n",
       "      <td>0.033523</td>\n",
       "      <td>0.0</td>\n",
       "      <td>0.0</td>\n",
       "      <td>1.313262</td>\n",
       "    </tr>\n",
       "    <tr>\n",
       "      <th>...</th>\n",
       "      <td>...</td>\n",
       "      <td>...</td>\n",
       "      <td>...</td>\n",
       "      <td>...</td>\n",
       "      <td>...</td>\n",
       "      <td>...</td>\n",
       "    </tr>\n",
       "    <tr>\n",
       "      <th>2021-06-23</th>\n",
       "      <td>Ярославская обл</td>\n",
       "      <td>0.0</td>\n",
       "      <td>0.009962</td>\n",
       "      <td>0.0</td>\n",
       "      <td>0.0</td>\n",
       "      <td>1.313262</td>\n",
       "    </tr>\n",
       "    <tr>\n",
       "      <th>2021-06-24</th>\n",
       "      <td>Ярославская обл</td>\n",
       "      <td>0.0</td>\n",
       "      <td>0.010055</td>\n",
       "      <td>0.0</td>\n",
       "      <td>0.0</td>\n",
       "      <td>1.313262</td>\n",
       "    </tr>\n",
       "    <tr>\n",
       "      <th>2021-06-25</th>\n",
       "      <td>Ярославская обл</td>\n",
       "      <td>0.0</td>\n",
       "      <td>0.009997</td>\n",
       "      <td>0.0</td>\n",
       "      <td>0.0</td>\n",
       "      <td>1.313262</td>\n",
       "    </tr>\n",
       "    <tr>\n",
       "      <th>2021-06-26</th>\n",
       "      <td>Ярославская обл</td>\n",
       "      <td>0.0</td>\n",
       "      <td>0.010052</td>\n",
       "      <td>0.0</td>\n",
       "      <td>0.0</td>\n",
       "      <td>1.313262</td>\n",
       "    </tr>\n",
       "    <tr>\n",
       "      <th>2021-06-27</th>\n",
       "      <td>Ярославская обл</td>\n",
       "      <td>0.0</td>\n",
       "      <td>0.010336</td>\n",
       "      <td>0.0</td>\n",
       "      <td>0.0</td>\n",
       "      <td>1.313262</td>\n",
       "    </tr>\n",
       "  </tbody>\n",
       "</table>\n",
       "<p>1273 rows × 6 columns</p>\n",
       "</div>"
      ],
      "text/plain": [
       "                     region  Anaplasma Phagocytophillum(кач) ДНК sum  \\\n",
       "2021-06-09      Адыгея Респ                                      0.0   \n",
       "2021-06-10      Адыгея Респ                                      0.0   \n",
       "2021-06-11      Адыгея Респ                                      0.0   \n",
       "2021-06-12      Адыгея Респ                                      0.0   \n",
       "2021-06-13      Адыгея Респ                                      0.0   \n",
       "...                     ...                                      ...   \n",
       "2021-06-23  Ярославская обл                                      0.0   \n",
       "2021-06-24  Ярославская обл                                      0.0   \n",
       "2021-06-25  Ярославская обл                                      0.0   \n",
       "2021-06-26  Ярославская обл                                      0.0   \n",
       "2021-06-27  Ярославская обл                                      0.0   \n",
       "\n",
       "            Borrelia burgdorferi s.l (кач) ДНК sum  \\\n",
       "2021-06-09                                0.033409   \n",
       "2021-06-10                                0.033389   \n",
       "2021-06-11                                0.033428   \n",
       "2021-06-12                                0.033442   \n",
       "2021-06-13                                0.033523   \n",
       "...                                            ...   \n",
       "2021-06-23                                0.009962   \n",
       "2021-06-24                                0.010055   \n",
       "2021-06-25                                0.009997   \n",
       "2021-06-26                                0.010052   \n",
       "2021-06-27                                0.010336   \n",
       "\n",
       "            Borrelia miyamotoi (кач) ДНК sum  \\\n",
       "2021-06-09                               0.0   \n",
       "2021-06-10                               0.0   \n",
       "2021-06-11                               0.0   \n",
       "2021-06-12                               0.0   \n",
       "2021-06-13                               0.0   \n",
       "...                                      ...   \n",
       "2021-06-23                               0.0   \n",
       "2021-06-24                               0.0   \n",
       "2021-06-25                               0.0   \n",
       "2021-06-26                               0.0   \n",
       "2021-06-27                               0.0   \n",
       "\n",
       "            Ehrlichia muris/chaffeеnsis(кач) ДНК sum  \\\n",
       "2021-06-09                                       0.0   \n",
       "2021-06-10                                       0.0   \n",
       "2021-06-11                                       0.0   \n",
       "2021-06-12                                       0.0   \n",
       "2021-06-13                                       0.0   \n",
       "...                                              ...   \n",
       "2021-06-23                                       0.0   \n",
       "2021-06-24                                       0.0   \n",
       "2021-06-25                                       0.0   \n",
       "2021-06-26                                       0.0   \n",
       "2021-06-27                                       0.0   \n",
       "\n",
       "            Вирус клещевого энцефалита(кач) РНК sum  \n",
       "2021-06-09                                 1.313262  \n",
       "2021-06-10                                 1.313262  \n",
       "2021-06-11                                 1.313262  \n",
       "2021-06-12                                 1.313262  \n",
       "2021-06-13                                 1.313262  \n",
       "...                                             ...  \n",
       "2021-06-23                                 1.313262  \n",
       "2021-06-24                                 1.313262  \n",
       "2021-06-25                                 1.313262  \n",
       "2021-06-26                                 1.313262  \n",
       "2021-06-27                                 1.313262  \n",
       "\n",
       "[1273 rows x 6 columns]"
      ]
     },
     "execution_count": 34,
     "metadata": {},
     "output_type": "execute_result"
    }
   ],
   "source": [
    "df_submission"
   ]
  },
  {
   "cell_type": "code",
   "execution_count": 35,
   "id": "b7966bed",
   "metadata": {},
   "outputs": [
    {
     "data": {
      "image/png": "[encoded data removed]",
      "text/plain": [
       "<Figure size 792x576 with 1 Axes>"
      ]
     },
     "metadata": {
      "needs_background": "light"
     },
     "output_type": "display_data"
    },
    {
     "data": {
      "image/png": "[encoded data removed]",
      "text/plain": [
       "<Figure size 792x576 with 1 Axes>"
      ]
     },
     "metadata": {
      "needs_background": "light"
     },
     "output_type": "display_data"
    },
    {
     "data": {
      "image/png": "[encoded data removed]",
      "text/plain": [
       "<Figure size 792x576 with 1 Axes>"
      ]
     },
     "metadata": {
      "needs_background": "light"
     },
     "output_type": "display_data"
    },
    {
     "data": {
      "image/png": "[encoded data removed]",
      "text/plain": [
       "<Figure size 792x576 with 1 Axes>"
      ]
     },
     "metadata": {
      "needs_background": "light"
     },
     "output_type": "display_data"
    },
    {
     "data": {
      "image/png": "[encoded data removed]",
      "text/plain": [
       "<Figure size 792x576 with 1 Axes>"
      ]
     },
     "metadata": {
      "needs_background": "light"
     },
     "output_type": "display_data"
    }
   ],
   "source": [
    "for col in df_submission.columns[1:]:\n",
    "    plt.figure(figsize=(11, 8))\n",
    "    plt.hist(df_submission[col], bins=20)\n",
    "    plt.title(col)\n",
    "    plt.show()"
   ]
  },
  {
   "cell_type": "code",
   "execution_count": 36,
   "id": "f067ce11",
   "metadata": {},
   "outputs": [
    {
     "data": {
      "text/html": [
       "<div>\n",
       "<style scoped>\n",
       "    .dataframe tbody tr th:only-of-type {\n",
       "        vertical-align: middle;\n",
       "    }\n",
       "\n",
       "    .dataframe tbody tr th {\n",
       "        vertical-align: top;\n",
       "    }\n",
       "\n",
       "    .dataframe thead th {\n",
       "        text-align: right;\n",
       "    }\n",
       "</style>\n",
       "<table border=\"1\" class=\"dataframe\">\n",
       "  <thead>\n",
       "    <tr style=\"text-align: right;\">\n",
       "      <th></th>\n",
       "      <th>region</th>\n",
       "      <th>Anaplasma Phagocytophillum(кач) ДНК sum</th>\n",
       "      <th>Borrelia burgdorferi s.l (кач) ДНК sum</th>\n",
       "      <th>Borrelia miyamotoi (кач) ДНК sum</th>\n",
       "      <th>Ehrlichia muris/chaffeеnsis(кач) ДНК sum</th>\n",
       "      <th>Вирус клещевого энцефалита(кач) РНК sum</th>\n",
       "    </tr>\n",
       "  </thead>\n",
       "  <tbody>\n",
       "    <tr>\n",
       "      <th>2021-06-09</th>\n",
       "      <td>Адыгея Респ</td>\n",
       "      <td>0.0</td>\n",
       "      <td>0.0</td>\n",
       "      <td>0.0</td>\n",
       "      <td>0.0</td>\n",
       "      <td>1.0</td>\n",
       "    </tr>\n",
       "    <tr>\n",
       "      <th>2021-06-10</th>\n",
       "      <td>Адыгея Респ</td>\n",
       "      <td>0.0</td>\n",
       "      <td>0.0</td>\n",
       "      <td>0.0</td>\n",
       "      <td>0.0</td>\n",
       "      <td>1.0</td>\n",
       "    </tr>\n",
       "    <tr>\n",
       "      <th>2021-06-11</th>\n",
       "      <td>Адыгея Респ</td>\n",
       "      <td>0.0</td>\n",
       "      <td>0.0</td>\n",
       "      <td>0.0</td>\n",
       "      <td>0.0</td>\n",
       "      <td>1.0</td>\n",
       "    </tr>\n",
       "    <tr>\n",
       "      <th>2021-06-12</th>\n",
       "      <td>Адыгея Респ</td>\n",
       "      <td>0.0</td>\n",
       "      <td>0.0</td>\n",
       "      <td>0.0</td>\n",
       "      <td>0.0</td>\n",
       "      <td>1.0</td>\n",
       "    </tr>\n",
       "    <tr>\n",
       "      <th>2021-06-13</th>\n",
       "      <td>Адыгея Респ</td>\n",
       "      <td>0.0</td>\n",
       "      <td>0.0</td>\n",
       "      <td>0.0</td>\n",
       "      <td>0.0</td>\n",
       "      <td>1.0</td>\n",
       "    </tr>\n",
       "    <tr>\n",
       "      <th>...</th>\n",
       "      <td>...</td>\n",
       "      <td>...</td>\n",
       "      <td>...</td>\n",
       "      <td>...</td>\n",
       "      <td>...</td>\n",
       "      <td>...</td>\n",
       "    </tr>\n",
       "    <tr>\n",
       "      <th>2021-06-23</th>\n",
       "      <td>Ярославская обл</td>\n",
       "      <td>0.0</td>\n",
       "      <td>0.0</td>\n",
       "      <td>0.0</td>\n",
       "      <td>0.0</td>\n",
       "      <td>1.0</td>\n",
       "    </tr>\n",
       "    <tr>\n",
       "      <th>2021-06-24</th>\n",
       "      <td>Ярославская обл</td>\n",
       "      <td>0.0</td>\n",
       "      <td>0.0</td>\n",
       "      <td>0.0</td>\n",
       "      <td>0.0</td>\n",
       "      <td>1.0</td>\n",
       "    </tr>\n",
       "    <tr>\n",
       "      <th>2021-06-25</th>\n",
       "      <td>Ярославская обл</td>\n",
       "      <td>0.0</td>\n",
       "      <td>0.0</td>\n",
       "      <td>0.0</td>\n",
       "      <td>0.0</td>\n",
       "      <td>1.0</td>\n",
       "    </tr>\n",
       "    <tr>\n",
       "      <th>2021-06-26</th>\n",
       "      <td>Ярославская обл</td>\n",
       "      <td>0.0</td>\n",
       "      <td>0.0</td>\n",
       "      <td>0.0</td>\n",
       "      <td>0.0</td>\n",
       "      <td>1.0</td>\n",
       "    </tr>\n",
       "    <tr>\n",
       "      <th>2021-06-27</th>\n",
       "      <td>Ярославская обл</td>\n",
       "      <td>0.0</td>\n",
       "      <td>0.0</td>\n",
       "      <td>0.0</td>\n",
       "      <td>0.0</td>\n",
       "      <td>1.0</td>\n",
       "    </tr>\n",
       "  </tbody>\n",
       "</table>\n",
       "<p>1273 rows × 6 columns</p>\n",
       "</div>"
      ],
      "text/plain": [
       "                     region  Anaplasma Phagocytophillum(кач) ДНК sum  \\\n",
       "2021-06-09      Адыгея Респ                                      0.0   \n",
       "2021-06-10      Адыгея Респ                                      0.0   \n",
       "2021-06-11      Адыгея Респ                                      0.0   \n",
       "2021-06-12      Адыгея Респ                                      0.0   \n",
       "2021-06-13      Адыгея Респ                                      0.0   \n",
       "...                     ...                                      ...   \n",
       "2021-06-23  Ярославская обл                                      0.0   \n",
       "2021-06-24  Ярославская обл                                      0.0   \n",
       "2021-06-25  Ярославская обл                                      0.0   \n",
       "2021-06-26  Ярославская обл                                      0.0   \n",
       "2021-06-27  Ярославская обл                                      0.0   \n",
       "\n",
       "            Borrelia burgdorferi s.l (кач) ДНК sum  \\\n",
       "2021-06-09                                     0.0   \n",
       "2021-06-10                                     0.0   \n",
       "2021-06-11                                     0.0   \n",
       "2021-06-12                                     0.0   \n",
       "2021-06-13                                     0.0   \n",
       "...                                            ...   \n",
       "2021-06-23                                     0.0   \n",
       "2021-06-24                                     0.0   \n",
       "2021-06-25                                     0.0   \n",
       "2021-06-26                                     0.0   \n",
       "2021-06-27                                     0.0   \n",
       "\n",
       "            Borrelia miyamotoi (кач) ДНК sum  \\\n",
       "2021-06-09                               0.0   \n",
       "2021-06-10                               0.0   \n",
       "2021-06-11                               0.0   \n",
       "2021-06-12                               0.0   \n",
       "2021-06-13                               0.0   \n",
       "...                                      ...   \n",
       "2021-06-23                               0.0   \n",
       "2021-06-24                               0.0   \n",
       "2021-06-25                               0.0   \n",
       "2021-06-26                               0.0   \n",
       "2021-06-27                               0.0   \n",
       "\n",
       "            Ehrlichia muris/chaffeеnsis(кач) ДНК sum  \\\n",
       "2021-06-09                                       0.0   \n",
       "2021-06-10                                       0.0   \n",
       "2021-06-11                                       0.0   \n",
       "2021-06-12                                       0.0   \n",
       "2021-06-13                                       0.0   \n",
       "...                                              ...   \n",
       "2021-06-23                                       0.0   \n",
       "2021-06-24                                       0.0   \n",
       "2021-06-25                                       0.0   \n",
       "2021-06-26                                       0.0   \n",
       "2021-06-27                                       0.0   \n",
       "\n",
       "            Вирус клещевого энцефалита(кач) РНК sum  \n",
       "2021-06-09                                      1.0  \n",
       "2021-06-10                                      1.0  \n",
       "2021-06-11                                      1.0  \n",
       "2021-06-12                                      1.0  \n",
       "2021-06-13                                      1.0  \n",
       "...                                             ...  \n",
       "2021-06-23                                      1.0  \n",
       "2021-06-24                                      1.0  \n",
       "2021-06-25                                      1.0  \n",
       "2021-06-26                                      1.0  \n",
       "2021-06-27                                      1.0  \n",
       "\n",
       "[1273 rows x 6 columns]"
      ]
     },
     "execution_count": 36,
     "metadata": {},
     "output_type": "execute_result"
    }
   ],
   "source": [
    "df_submission_sum_final = df_submission.round()\n",
    "df_submission_sum_final.rename(columns={\n",
    "    'Anaplasma Phagocytophillum(кач) ДНК percent_count': 'Anaplasma Phagocytophillum(кач) ДНК count',\n",
    "    'Borrelia burgdorferi s.l (кач) ДНК percent_count': 'Borrelia burgdorferi s.l (кач) ДНК count',\n",
    "    'Borrelia miyamotoi (кач) ДНК percent_count': 'Borrelia miyamotoi (кач) ДНК count',\n",
    "    'Ehrlichia muris/chaffeеnsis(кач) ДНК percent_count': 'Ehrlichia muris/chaffeеnsis(кач) ДНК count',\n",
    "    'Вирус клещевого энцефалита(кач) РНК percent_count': 'Вирус клещевого энцефалита(кач) РНК count'\n",
    "}, inplace=True)\n",
    "df_submission_sum_final"
   ]
  },
  {
   "cell_type": "code",
   "execution_count": 37,
   "id": "3a741923",
   "metadata": {},
   "outputs": [],
   "source": [
    "df_submission_sum_final.to_csv('submissions/df_submission_sum_final.csv')"
   ]
  },
  {
   "cell_type": "code",
   "execution_count": null,
   "id": "a1f18666",
   "metadata": {},
   "outputs": [],
   "source": []
  }
 ],
 "metadata": {
  "kernelspec": {
   "display_name": "Python 3",
   "language": "python",
   "name": "python3"
  },
  "language_info": {
   "codemirror_mode": {
    "name": "ipython",
    "version": 3
   },
   "file_extension": ".py",
   "mimetype": "text/x-python",
   "name": "python",
   "nbconvert_exporter": "python",
   "pygments_lexer": "ipython3",
   "version": "3.8.8"
  }
 },
 "nbformat": 4,
 "nbformat_minor": 5
}
